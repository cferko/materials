{
 "cells": [
  {
   "cell_type": "markdown",
   "metadata": {},
   "source": [
    "### Tier 3. Hull Material Design Optimization\n",
    "\n",
    "Now that we have a better understanding of our potential hull material, we can turn our attention to improving it through various manufacturing techniques. Now, as we design these systems, we must choose values of critical *design variables.* These are the quantities that, as designers, we can control and change to best fit the goals of our customer (the aliens!). The design variables we will consider are:\n",
    "\n",
    "1) FIBER REINFORCEMENT, in fibers per square meter. We may inlay carbon nanotube fibers within the composite hull material. The more fibers per square meter we include, the stronger the hull will become, but it will make the material more expensive.\n",
    "\n",
    "2) MANUFACTURING PRINTING RESOLUTION, in millimeters (mm). Our hull composites will be 3D-printed using laser sintering technology first proposed on Earth several hundred years ago. The higher the resolution, the smoother our material will be (and thus the faster our ship may travel through an atmosphere), but the more expensive it will be to manufacture. Note that *lower* resolution corresponds to a *more precise* manufacture, and therefore a stronger material. Also, this resolution has a *non-linear* relationship with material strength, meaning it can be hard to predict how different resolutions will affect the material's strength.\n",
    "\n",
    "3) The ANNEALING TIME, in seconds. *Annealing* is the process of heating a composite, often when it contains a metal, to relieve some of the manufacturing stresses and strengthen the material. This will most likely improve both smoothness and decrease strength, resulting in more comfortable ride at the expense of some safety, but again, this increases cost.\n",
    "\n",
    "The relevant outputs, which are of interest to our alien customers, are:\n",
    "\n",
    "1) HULL STRENGTH, which is measured in normalized maximum tensile stress. This is a measure of how much force a unit of the material can support in tension, and relates to more general notions of material strength. This measure is common in engineering material components used in ship building.\n",
    "\n",
    "2) MAXIMUM SAFE SPEED, as a fraction of the speed of light. The rougher the material is, and the weaker it is, the lower the maximum safe speed. \n",
    "\n",
    "3) COST, in Andromeda Credits. The more involved the manufacturing processes are, the more expensive the material will become.\n",
    "\n",
    "Your task here will be to consider several different customers, and recommend designs of these boosters given their goals. For this task, you may manipulate the bars in the cell below to get responses for various outputs. \n",
    "\n",
    "ANSWER THE FOLLOWING:\n",
    "\n",
    "1) How do each of the inputs affect each of the outputs? Does increasing each input increase, decrease, or not change each of the outputs? You do not need to report this, simply confirm that the points made above match with the results you see when manipulating the data in the cell below.\n",
    "\n",
    "2) One of our engineers insists that, using an annealing process of only 2,000 seconds, she was able to manufacture a hull sample stronger than 400 Meganewtons per square meter for less than 9,000 Andromeda Credits. Can you find values for the printing and fiber resoltions that match these results? For the values you find, what would be the minimum time a passenger could take to safely travel 4.5 lightyears to the nearest star system? Note that there could be multiple solutions. Record your solution inputs, and inform a Commander of the one you find and demonstrate your solution using the code and sliding bars below.\n",
    "\n",
    "3) A friendly alien has asked for a quote on a potential design. This alien requires a hull fitting that has a minimum safe cruising speed of 0.6c, and and a strength of at least 400 Meganewtons per square meter. Their budget is 8,000 Andromeda Credits. Can you design a ship meeting these specifications? If you can, how underbudget can you get your design? Record the values for each of the inputs below.\n",
    "\n",
    "4) Design a ship used for humans arriving to this star system. We will need to travel approximately 0.2 light years to fly between the furthest planets at their largest distance apart, and we will need to make this journey in 0.3 years. Asteroid belts between the planets necessitate that the hull have a strength of at least 450 Meganewtons per square meter. We would prefer to keep the cost of this hull under 8,000 credits, but we are willing to pay more for a satisfying design. How fast must the ship travel, and can you design a ship that meets our requirements? Record the values for each of the inputs."
   ]
  },
  {
   "cell_type": "code",
   "execution_count": null,
   "metadata": {
    "collapsed": false
   },
   "outputs": [],
   "source": [
    "'''\n",
    "Ignore this section, our engineers are simply importing \n",
    "some useful material for you.\n",
    "\n",
    "When you are ready to begin, click in this cell and click \"Run\".\n",
    "Ask if you need help.\n",
    "'''\n",
    "# from __future__ import print_function\n",
    "from IPython.html.widgets import interact, interactive, fixed\n",
    "from IPython.html import widgets\n",
    "from ipywidgets import widgets\n",
    "import numpy as np\n",
    "import matplotlib.pyplot as plt\n",
    "from matcalls import *\n",
    "%matplotlib inline\n",
    "\n",
    "interact(materialsStudy,\\\n",
    "        fiber_resolution=(10000.,50000.,200.),\\\n",
    "        printing_resolution=(0.1,3.0,0.05),\\\n",
    "        annealing_time=(1000,5000,50));"
   ]
  },
  {
   "cell_type": "code",
   "execution_count": null,
   "metadata": {
    "collapsed": true
   },
   "outputs": [],
   "source": []
  }
 ],
 "metadata": {
  "kernelspec": {
   "display_name": "Python 2",
   "language": "python",
   "name": "python2"
  },
  "language_info": {
   "codemirror_mode": {
    "name": "ipython",
    "version": 2
   },
   "file_extension": ".py",
   "mimetype": "text/x-python",
   "name": "python",
   "nbconvert_exporter": "python",
   "pygments_lexer": "ipython2",
   "version": "2.7.11"
  }
 },
 "nbformat": 4,
 "nbformat_minor": 0
}
